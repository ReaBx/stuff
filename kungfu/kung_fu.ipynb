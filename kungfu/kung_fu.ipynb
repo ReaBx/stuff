{
 "cells": [
  {
   "cell_type": "markdown",
   "metadata": {},
   "source": [
    "# Data Kung Fu with Pandas"
   ]
  },
  {
   "cell_type": "markdown",
   "metadata": {},
   "source": [
    "## Import the libraries we'll need."
   ]
  },
  {
   "cell_type": "code",
   "execution_count": null,
   "metadata": {
    "collapsed": true
   },
   "outputs": [],
   "source": [
    "import pandas as pd\n",
    "from pandas.tools.plotting import scatter_matrix\n",
    "\n",
    "import matplotlib.pyplot as plt\n",
    "\n",
    "%matplotlib inline"
   ]
  },
  {
   "cell_type": "code",
   "execution_count": null,
   "metadata": {
    "collapsed": true
   },
   "outputs": [],
   "source": [
    "pd.set_option('display.max_columns', None)"
   ]
  },
  {
   "cell_type": "markdown",
   "metadata": {},
   "source": [
    "## Let's read some data!"
   ]
  },
  {
   "cell_type": "code",
   "execution_count": null,
   "metadata": {
    "collapsed": true
   },
   "outputs": [],
   "source": [
    "raw_dataframe = pd.read_csv(\"data/mydata.csv\")"
   ]
  },
  {
   "cell_type": "code",
   "execution_count": null,
   "metadata": {
    "collapsed": false
   },
   "outputs": [],
   "source": [
    "raw_dataframe.head(3)"
   ]
  },
  {
   "cell_type": "code",
   "execution_count": null,
   "metadata": {
    "collapsed": false
   },
   "outputs": [],
   "source": [
    "raw_dataframe.info()"
   ]
  },
  {
   "cell_type": "markdown",
   "metadata": {},
   "source": [
    "## Let's clean our data."
   ]
  },
  {
   "cell_type": "code",
   "execution_count": null,
   "metadata": {
    "collapsed": true
   },
   "outputs": [],
   "source": [
    "dataframe = raw_dataframe.copy()\n",
    "\n",
    "# Convert _Taxpayer Zip_ to an integer.\n",
    "dataframe['Taxpayer Zip'] = dataframe['Taxpayer Zip'].fillna(0.0).astype(int)\n",
    "\n",
    "# Convert _Location County_ to an integer.\n",
    "dataframe['Location County'] = dataframe['Location County'].fillna(0.0).astype(int)\n",
    "\n",
    "# Convert _Location Tot Room Receipts_ to a float.\n",
    "dataframe['Location Tot Room Receipts'] = \\\n",
    "    dataframe['Location Tot Room Receipts'] \\\n",
    "        .replace('[\\$,]', '', regex=True).astype(float, inplace=True)\n",
    "\n",
    "# Convert _Location Tot Room Receipts_ to a float.\n",
    "dataframe['Location Taxable Receipts'] = \\\n",
    "    dataframe['Location Taxable Receipts'] \\\n",
    "        .replace('[\\$,]', '', regex=True).astype(float, inplace=True)"
   ]
  },
  {
   "cell_type": "code",
   "execution_count": null,
   "metadata": {
    "collapsed": false
   },
   "outputs": [],
   "source": [
    "dataframe.info()"
   ]
  },
  {
   "cell_type": "markdown",
   "metadata": {},
   "source": [
    "## Exploratory Data Analysis (EDA)"
   ]
  },
  {
   "cell_type": "code",
   "execution_count": null,
   "metadata": {
    "collapsed": false
   },
   "outputs": [],
   "source": [
    "dataframe.head(3)"
   ]
  },
  {
   "cell_type": "code",
   "execution_count": null,
   "metadata": {
    "collapsed": false
   },
   "outputs": [],
   "source": [
    "# Hmm, _Location Room Capacity_ looks suspicious\n",
    "dataframe['Location Room Capacity'].hist(bins=100)"
   ]
  },
  {
   "cell_type": "code",
   "execution_count": null,
   "metadata": {
    "collapsed": false
   },
   "outputs": [],
   "source": [
    "rows_of_interest = (dataframe['Location Room Capacity'] < 50)\n",
    "dataframe[rows_of_interest]['Location Room Capacity'].hist(bins=100)"
   ]
  },
  {
   "cell_type": "code",
   "execution_count": null,
   "metadata": {
    "collapsed": false
   },
   "outputs": [],
   "source": [
    "# How many of these suspicious observations do we have?\n",
    "(dataframe['Location Room Capacity'] == 1).sum()"
   ]
  },
  {
   "cell_type": "markdown",
   "metadata": {},
   "source": [
    "<b><font color='indianred'>############################</font><b>"
   ]
  },
  {
   "cell_type": "code",
   "execution_count": null,
   "metadata": {
    "collapsed": false
   },
   "outputs": [],
   "source": [
    "# IGNORE THIS FOR NOW!\n",
    "# Keep commented out. We'll come back here later.\n",
    "#\n",
    "# print(\"Orig size:\", dataframe.shape)\n",
    "# dataframe = dataframe[dataframe['Location Room Capacity'] > 1]\n",
    "# print(\"New size:\", dataframe.shape)"
   ]
  },
  {
   "cell_type": "markdown",
   "metadata": {},
   "source": [
    "<b><font color='indianred'>############################</font><b>"
   ]
  },
  {
   "cell_type": "markdown",
   "metadata": {},
   "source": [
    "### Visualization (histograms and scatterplots)"
   ]
  },
  {
   "cell_type": "markdown",
   "metadata": {},
   "source": [
    "#### Number of States Represented"
   ]
  },
  {
   "cell_type": "code",
   "execution_count": null,
   "metadata": {
    "collapsed": false
   },
   "outputs": [],
   "source": [
    "# How many states do I got here?\n",
    "agg = dataframe.groupby('Location State').apply(len)\n",
    "agg.plot(kind='bar').set_ylabel('# records')"
   ]
  },
  {
   "cell_type": "code",
   "execution_count": null,
   "metadata": {
    "collapsed": false
   },
   "outputs": [],
   "source": [
    "dataframe['Location State'].value_counts()"
   ]
  },
  {
   "cell_type": "code",
   "execution_count": null,
   "metadata": {
    "collapsed": true
   },
   "outputs": [],
   "source": [
    "texas_df = dataframe[dataframe['Location State'] == 'TX']"
   ]
  },
  {
   "cell_type": "markdown",
   "metadata": {},
   "source": [
    "#### Number of Cities Represented\n",
    "How many unique cities are represented?"
   ]
  },
  {
   "cell_type": "code",
   "execution_count": null,
   "metadata": {
    "collapsed": false
   },
   "outputs": [],
   "source": [
    "texas_df['Location City'].describe()"
   ]
  },
  {
   "cell_type": "markdown",
   "metadata": {},
   "source": [
    "#### Histogram: Number of unique hotels in each city"
   ]
  },
  {
   "cell_type": "code",
   "execution_count": null,
   "metadata": {
    "collapsed": false
   },
   "outputs": [],
   "source": [
    "city_counts = texas_df.groupby('Location City')['Taxpayer Number'].nunique()\n",
    "city_counts.sort_values(axis=0, ascending=False, inplace=True)\n",
    "top_cities = city_counts > 50\n",
    "city_counts[top_cities].plot(kind='bar').set_ylabel('# unique hotels')"
   ]
  },
  {
   "cell_type": "markdown",
   "metadata": {},
   "source": [
    "#### Exploring the numeric columns"
   ]
  },
  {
   "cell_type": "code",
   "execution_count": null,
   "metadata": {
    "collapsed": true
   },
   "outputs": [],
   "source": [
    "numeric_columns = ['Month', 'Year', 'Outlet Number', 'Location Room Capacity',\n",
    "                   'Location Tot Room Receipts', 'Location Taxable Receipts']"
   ]
  },
  {
   "cell_type": "code",
   "execution_count": null,
   "metadata": {
    "collapsed": false
   },
   "outputs": [],
   "source": [
    "# Let's see some stats\n",
    "texas_df[numeric_columns].describe()"
   ]
  },
  {
   "cell_type": "markdown",
   "metadata": {},
   "source": [
    "#### Pairplot over a few numeric columns-of-interest"
   ]
  },
  {
   "cell_type": "code",
   "execution_count": null,
   "metadata": {
    "collapsed": false
   },
   "outputs": [],
   "source": [
    "cols_of_interest = ['Location Room Capacity', 'Location Tot Room Receipts',\n",
    "                    'Location Taxable Receipts']\n",
    "scatter_matrix(texas_df[cols_of_interest], figsize=(10, 8));"
   ]
  },
  {
   "cell_type": "markdown",
   "metadata": {},
   "source": [
    "#### Compare two cities: Scatterplot 'Location Room Capacity' vs 'Location Tot Room Receipts' for each city"
   ]
  },
  {
   "cell_type": "code",
   "execution_count": null,
   "metadata": {
    "collapsed": false
   },
   "outputs": [],
   "source": [
    "cities_of_interest = ['AUSTIN', 'EL PASO']\n",
    "\n",
    "# Scatter plot by city.\n",
    "for city in cities_of_interest:\n",
    "    city_mask = (texas_df['Location City'] == city)\n",
    "    size_mask = (texas_df['Location Room Capacity'] < 220)\n",
    "    plt.plot(texas_df[city_mask][size_mask]['Location Room Capacity'],\n",
    "             texas_df[city_mask][size_mask]['Location Tot Room Receipts'],\n",
    "             linestyle='',\n",
    "             marker='o',\n",
    "             alpha=1,\n",
    "             label=city)\n",
    "plt.xlabel('Location Room Capacity')\n",
    "plt.ylabel('Location Tot Room Receipts')\n",
    "plt.legend(numpoints=1)"
   ]
  },
  {
   "cell_type": "markdown",
   "metadata": {},
   "source": [
    "#### Histogram of every numeric column"
   ]
  },
  {
   "cell_type": "code",
   "execution_count": null,
   "metadata": {
    "collapsed": false
   },
   "outputs": [],
   "source": [
    "# Here's another one-liner:\n",
    "texas_df[numeric_columns].hist(bins=10, figsize=(10, 6))"
   ]
  },
  {
   "cell_type": "markdown",
   "metadata": {},
   "source": [
    "#### Years and Months, what do we have of each?"
   ]
  },
  {
   "cell_type": "code",
   "execution_count": null,
   "metadata": {
    "collapsed": false
   },
   "outputs": [],
   "source": [
    "texas_df['Year'].value_counts()"
   ]
  },
  {
   "cell_type": "code",
   "execution_count": null,
   "metadata": {
    "collapsed": false
   },
   "outputs": [],
   "source": [
    "texas_df['Month'].value_counts()"
   ]
  },
  {
   "cell_type": "markdown",
   "metadata": {},
   "source": [
    "#### Histogram: Avg 'room capacity' per city (top cities only)"
   ]
  },
  {
   "cell_type": "code",
   "execution_count": null,
   "metadata": {
    "collapsed": false
   },
   "outputs": [],
   "source": [
    "city_counts = texas_df.groupby('Location City')['Location Room Capacity'].mean()\n",
    "city_counts.sort_values(axis=0, ascending=False, inplace=True)\n",
    "city_counts[city_counts>110].plot(kind='bar', figsize=(10, 4)).set_ylabel('avg room capacity')"
   ]
  },
  {
   "cell_type": "markdown",
   "metadata": {},
   "source": [
    "#### Histogram: Avg income per room per night per city (top cities only)"
   ]
  },
  {
   "cell_type": "code",
   "execution_count": null,
   "metadata": {
    "collapsed": false
   },
   "outputs": [],
   "source": [
    "num_days = 31 + 31  # <-- both July and August each have 31 days in them.\n",
    "\n",
    "cities = texas_df.groupby('Location City')\n",
    "city_receipts = cities['Location Tot Room Receipts'].sum()\n",
    "city_rooms = cities['Location Room Capacity'].sum()\n",
    "city_income_per_room_per_night = city_receipts / city_rooms / num_days\n",
    "city_income_per_room_per_night.sort_values(axis=0, ascending=False, inplace=True)\n",
    "most_profitable_cities = city_income_per_room_per_night > 100\n",
    "city_income_per_room_per_night[most_profitable_cities].plot(kind='bar', figsize=(10, 4)) \\\n",
    "    .set_ylabel('avg income per room per night')"
   ]
  },
  {
   "cell_type": "markdown",
   "metadata": {},
   "source": [
    "#### RED ALERT: What's up with SOUTHLAKE?"
   ]
  },
  {
   "cell_type": "code",
   "execution_count": null,
   "metadata": {
    "collapsed": false
   },
   "outputs": [],
   "source": [
    "texas_df[texas_df['Location City'] == 'SOUTHLAKE']"
   ]
  },
  {
   "cell_type": "markdown",
   "metadata": {},
   "source": [
    "Wait. Is this bad data?<br>\n",
    "Let's check:\n",
    "http://www3.hilton.com/en/hotels/texas/hilton-dallas-southlake-town-square-DFWSLHF/index.html"
   ]
  },
  {
   "cell_type": "markdown",
   "metadata": {},
   "source": [
    "#### Is there much of a difference between the month of July and the month of August?"
   ]
  },
  {
   "cell_type": "code",
   "execution_count": null,
   "metadata": {
    "collapsed": false
   },
   "outputs": [],
   "source": [
    "# How does the specific month affect the avg income per room per night?\n",
    "\n",
    "cities = texas_df.groupby(['Location City', 'Month'])\n",
    "city_receipts = cities['Location Tot Room Receipts'].sum()\n",
    "city_rooms = cities['Location Room Capacity'].sum()\n",
    "city_income_per_room_per_night = city_receipts / city_rooms / num_days\n",
    "city_income_per_room_per_night = city_income_per_room_per_night.unstack()\n",
    "city_income_per_room_per_night['avg_7_8'] = (city_income_per_room_per_night[7] + \\\n",
    "                                             city_income_per_room_per_night[8]) / 2\n",
    "city_income_per_room_per_night.sort_values(by='avg_7_8', ascending=False, inplace=True)\n",
    "most_profitable_cities = city_income_per_room_per_night['avg_7_8'] > 100\n",
    "city_income_per_room_per_night[most_profitable_cities].plot(kind='bar', figsize=(10, 4)) \\\n",
    "    .set_ylabel('avg income per room per night')"
   ]
  },
  {
   "cell_type": "code",
   "execution_count": null,
   "metadata": {
    "collapsed": false
   },
   "outputs": [],
   "source": [
    "# Seems July (7) was a better month for the top cities than August (8). Let's see if this\n",
    "# was overall true for the entire dataset.\n",
    "print('July Avg:', city_income_per_room_per_night[7].mean())\n",
    "print('Aug Avg: ', city_income_per_room_per_night[8].mean())"
   ]
  },
  {
   "cell_type": "markdown",
   "metadata": {},
   "source": [
    "####  _Enough for today (for now)_"
   ]
  },
  {
   "cell_type": "code",
   "execution_count": null,
   "metadata": {
    "collapsed": true
   },
   "outputs": [],
   "source": []
  }
 ],
 "metadata": {
  "kernelspec": {
   "display_name": "Python 2",
   "language": "python",
   "name": "python2"
  },
  "language_info": {
   "codemirror_mode": {
    "name": "ipython",
    "version": 2
   },
   "file_extension": ".py",
   "mimetype": "text/x-python",
   "name": "python",
   "nbconvert_exporter": "python",
   "pygments_lexer": "ipython2",
   "version": "2.7.12"
  }
 },
 "nbformat": 4,
 "nbformat_minor": 0
}
